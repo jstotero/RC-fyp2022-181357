{
 "cells": [
  {
   "cell_type": "code",
   "execution_count": null,
   "metadata": {},
   "outputs": [],
   "source": [
    "import Loukas_esn as lesn\n",
    "import numpy as np\n",
    "from rc_datasets import rc_datasets\n",
    "import test_mackeyglass"
   ]
  },
  {
   "cell_type": "code",
   "execution_count": null,
   "metadata": {},
   "outputs": [],
   "source": [
    "# Input data\n",
    "\n",
    "Ttot = 10000        # total number of data points\n",
    "fac = 10\n",
    "x0 = 1.8\n",
    "dt = 0.1\n",
    "\n",
    "# MackeyGlass\n",
    "ds_mg = test_mackeyglass.test_mg(fac,Ttot,x0,dt).u\n",
    "data_mg = ds_mg.reshape(1,Ttot)\n",
    "\n",
    "# Sin\n",
    "theta = np.linspace(0,Ttot/10,Ttot)\n",
    "data_sin = np.sin(theta).reshape(1,Ttot)\n",
    "data_sin2 = 0.5+0.25*np.sin(2*np.pi*theta).reshape(1,Ttot)+0.15*np.sin(np.sqrt(2)*np.pi*theta).reshape(1,Ttot)"
   ]
  },
  {
   "cell_type": "code",
   "execution_count": null,
   "metadata": {
    "scrolled": false
   },
   "outputs": [],
   "source": [
    "# esn\n",
    "\n",
    "my_esn = lesn.Esn(data_mg, rhoscale=1.3, alpha=0.7, beta=1.3e-4, Ttrain=1000, Twashout=200, N=500)\n",
    "my_esn.plot_static_properties()\n",
    "my_esn.train()\n",
    "my_esn.validate(val_time=1000)\n",
    "my_esn.test(test_time=1000)\n",
    "my_esn.plot_training()\n",
    "my_esn.plot_validation()\n",
    "my_esn.plot_test()"
   ]
  },
  {
   "cell_type": "code",
   "execution_count": null,
   "metadata": {},
   "outputs": [],
   "source": []
  }
 ],
 "metadata": {
  "kernelspec": {
   "display_name": "Python 3",
   "language": "python",
   "name": "python3"
  },
  "language_info": {
   "codemirror_mode": {
    "name": "ipython",
    "version": 3
   },
   "file_extension": ".py",
   "mimetype": "text/x-python",
   "name": "python",
   "nbconvert_exporter": "python",
   "pygments_lexer": "ipython3",
   "version": "3.6.5"
  }
 },
 "nbformat": 4,
 "nbformat_minor": 2
}

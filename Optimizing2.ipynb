{
 "cells": [
  {
   "cell_type": "markdown",
   "id": "c9b985dc-3cc9-47a1-be83-11cc046c4394",
   "metadata": {},
   "source": [
    "# Optimizing 2"
   ]
  },
  {
   "cell_type": "code",
   "execution_count": 1,
   "id": "361d5bcb-5828-4325-b3d4-6add6a42dc21",
   "metadata": {},
   "outputs": [],
   "source": [
    "from fyp_code import loukas_esn, optimize2, utilities as util\n",
    "from colorama import Fore\n",
    "import numpy as np\n",
    "import matplotlib.pyplot as plt\n",
    "import math\n",
    "import copy\n",
    "plt.rcParams[\"figure.figsize\"] = [10,5]\n",
    "plt.rcParams['figure.dpi'] = 100"
   ]
  },
  {
   "cell_type": "code",
   "execution_count": 2,
   "id": "3a50f0bf-0d03-4dd3-ae65-1fd815b07797",
   "metadata": {},
   "outputs": [],
   "source": [
    "# initialise input data\n",
    "data_mg = util.data_mg()\n",
    "data_sin1 = util.data_sin(order=1)\n",
    "data_sin2 = util.data_sin(order=2)\n",
    "data_sin3 = util.data_sin(order=3)\n",
    "\n",
    "# initialise parameter spaces for mg\n",
    "rhos_mg = np.linspace(0.7,1.3,20)\n",
    "alphas_mg = np.linspace(0.3,0.9,20)\n",
    "betas_mg = np.logspace(-8,-3,20)\n",
    "rho_mg = 1.1\n",
    "alpha_mg = 0.7\n",
    "beta_mg = 1e-7\n",
    "sparse_mg = 0.5\n",
    "N_mg = 500\n",
    "\n",
    "inodes = 1      # input nodes\n",
    "onodes = 1      # output nodes\n",
    "ttr = 1000      # training time\n",
    "twash = 200     # washout time"
   ]
  },
  {
   "cell_type": "code",
   "execution_count": 3,
   "id": "07307849-5292-4ca9-914b-035859605e35",
   "metadata": {},
   "outputs": [],
   "source": [
    "# initialise Optimizer2 object\n",
    "esn = loukas_esn.Esn(data_mg, rho_mg, alpha_mg, beta_mg, inodes, onodes, ttr, twash, N_mg, sparse_mg)\n",
    "opt_mg = optimize2.Optimizer2(esn, rhos_mg, alphas_mg, betas_mg)"
   ]
  },
  {
   "cell_type": "markdown",
   "id": "19e4e548-580c-4e5d-a5ec-f03f50922ca8",
   "metadata": {},
   "source": [
    "## Grid-search functions"
   ]
  },
  {
   "cell_type": "markdown",
   "id": "1e18d618-0ed3-4078-af0f-d6e2a1277471",
   "metadata": {},
   "source": [
    "#### Optimize rho"
   ]
  },
  {
   "cell_type": "code",
   "execution_count": 4,
   "id": "68896463-4c99-4252-8702-4e39cd99a493",
   "metadata": {},
   "outputs": [
    {
     "name": "stdout",
     "output_type": "stream",
     "text": [
      "rho: 0.7, nmse: 2.435434, 5%\n",
      "rho: 0.732, nmse: 0.421005, 10%\n",
      "rho: 0.763, nmse: 0.844685, 15%\n",
      "rho: 0.795, nmse: 1.477923, 20%\n",
      "rho: 0.826, nmse: 1.183542, 25%\n",
      "rho: 0.858, nmse: 0.86208, 30%\n",
      "rho: 0.889, nmse: 0.184625, 35%\n",
      "rho: 0.921, nmse: 0.438677, 40%\n",
      "rho: 0.953, nmse: 0.197481, 45%\n",
      "rho: 0.984, nmse: 0.422509, 50%\n",
      "rho: 1.016, nmse: 0.529654, 55%\n",
      "rho: 1.047, nmse: 0.439758, 60%\n",
      "rho: 1.079, nmse: 0.319211, 65%\n",
      "rho: 1.111, nmse: 0.150763, 70%\n",
      "rho: 1.142, nmse: 0.078317, 75%\n",
      "rho: 1.174, nmse: 0.039752, 80%\n",
      "rho: 1.205, nmse: 0.04912, 85%\n",
      "rho: 1.237, nmse: 0.020207, 90%\n",
      "rho: 1.268, nmse: 0.129321, 95%\n",
      "rho: 1.3, nmse: 0.021703, 100%\n",
      "\u001b[32mrho: 1.236842105263158\n",
      "nmse: 0.020206619550986564\n"
     ]
    }
   ],
   "source": [
    "opt_r = opt_mg.opt_rho(mute=False)"
   ]
  },
  {
   "cell_type": "markdown",
   "id": "86a9636b-1f1d-4e28-8ad4-bc4e28a2eb50",
   "metadata": {},
   "source": [
    "#### Optimize alpha"
   ]
  },
  {
   "cell_type": "code",
   "execution_count": 5,
   "id": "9c368e51-2128-483d-adaa-d364657e43dc",
   "metadata": {},
   "outputs": [
    {
     "name": "stdout",
     "output_type": "stream",
     "text": [
      "optimal alpha: 0.33157894736842103\n",
      "nmse: 0.004332639907862637\n",
      "alpha/nmse dictionary: {0.3: 0.04554429312822384, 0.33157894736842103: 0.004332639907862637, 0.3631578947368421: 0.0293374402900513, 0.39473684210526316: 0.037467870717098894, 0.4263157894736842: 0.059240641420732786, 0.4578947368421053: 0.04470037548275825, 0.48947368421052634: 0.05240449853168482, 0.5210526315789474: 0.05548112028337402, 0.5526315789473685: 0.0756900436579547, 0.5842105263157895: 0.1653692529512291, 0.6157894736842107: 0.20653452693088095, 0.6473684210526316: 0.1893991146533052, 0.6789473684210527: 0.21265588139775699, 0.7105263157894738: 0.23507996875766066, 0.7421052631578948: 0.22199580749653897, 0.773684210526316: 0.18383208079172367, 0.8052631578947369: 0.063267386635603, 0.836842105263158: 0.03503903145914077, 0.868421052631579: 0.04344278108918002, 0.9: 0.2983714147486804}\n"
     ]
    }
   ],
   "source": [
    "opt_a = opt_mg.opt_alpha(mute=True)\n",
    "print(\"optimal alpha: {}\\nnmse: {}\\nalpha/nmse dictionary: {}\".format(opt_a[0],opt_a[1],opt_a[2]))"
   ]
  },
  {
   "cell_type": "markdown",
   "id": "f1a26761-2d36-435f-b584-54ae92c6b0a3",
   "metadata": {},
   "source": [
    "#### Optimize rho + alpha"
   ]
  },
  {
   "cell_type": "code",
   "execution_count": 6,
   "id": "9d5742aa-d8d9-43a9-a6eb-84324f546d7f",
   "metadata": {},
   "outputs": [
    {
     "name": "stdout",
     "output_type": "stream",
     "text": [
      "rho: 0.7-1.3, alpha: 0.3, 5%\n",
      "rho: 0.7-1.3, alpha: 0.332, 10%\n",
      "rho: 0.7-1.3, alpha: 0.363, 15%\n",
      "rho: 0.7-1.3, alpha: 0.395, 20%\n",
      "rho: 0.7-1.3, alpha: 0.426, 25%\n",
      "rho: 0.7-1.3, alpha: 0.458, 30%\n",
      "rho: 0.7-1.3, alpha: 0.489, 35%\n",
      "rho: 0.7-1.3, alpha: 0.521, 40%\n",
      "rho: 0.7-1.3, alpha: 0.553, 45%\n",
      "rho: 0.7-1.3, alpha: 0.584, 50%\n",
      "rho: 0.7-1.3, alpha: 0.616, 55%\n",
      "rho: 0.7-1.3, alpha: 0.647, 60%\n",
      "rho: 0.7-1.3, alpha: 0.679, 65%\n",
      "rho: 0.7-1.3, alpha: 0.711, 70%\n",
      "rho: 0.7-1.3, alpha: 0.742, 75%\n",
      "rho: 0.7-1.3, alpha: 0.774, 80%\n",
      "rho: 0.7-1.3, alpha: 0.805, 85%\n",
      "rho: 0.7-1.3, alpha: 0.837, 90%\n",
      "rho: 0.7-1.3, alpha: 0.868, 95%\n",
      "rho: 0.7-1.3, alpha: 0.9, 100%\n",
      "\u001b[32mrho: 1.3\n",
      "alpha: 0.39473684210526316\n",
      "nmse: 0.0005020579610046847\n"
     ]
    },
    {
     "data": {
      "text/plain": [
       "(1.3, 0.39473684210526316, 0.0005020579610046847)"
      ]
     },
     "execution_count": 6,
     "metadata": {},
     "output_type": "execute_result"
    }
   ],
   "source": [
    "r, a, nmse = opt_mg.opt_rho_alpha()\n",
    "r, a, nmse"
   ]
  },
  {
   "cell_type": "markdown",
   "id": "741e1e58-056b-4821-aa38-468f126d13e4",
   "metadata": {},
   "source": [
    "#### Optimize beta"
   ]
  },
  {
   "cell_type": "code",
   "execution_count": 7,
   "id": "5cfdf633-a1ef-4dc7-9133-5e70c1737c96",
   "metadata": {},
   "outputs": [
    {
     "name": "stdout",
     "output_type": "stream",
     "text": [
      "\u001b[32mOptimal beta: 1.8329807108324374e-08, nmse: 7.926614392980449e-07\n"
     ]
    }
   ],
   "source": [
    "opt_bv = opt_mg.opt_beta_val(mute=True)\n",
    "optimize2.print_optimal(opt_bv[2],\"beta\")"
   ]
  },
  {
   "cell_type": "code",
   "execution_count": 8,
   "id": "d7f00ac8-63cc-466d-a761-873891bf7e95",
   "metadata": {},
   "outputs": [
    {
     "name": "stdout",
     "output_type": "stream",
     "text": [
      "beta: 1e-08, nmse: 1.025742, 5%\n",
      "beta: 1.8329807108324374e-08, nmse: 0.321975, 10%\n",
      "beta: 3.3598182862837814e-08, nmse: 1.413377, 15%\n",
      "beta: 6.158482110660267e-08, nmse: 0.220373, 20%\n",
      "beta: 1.1288378916846883e-07, nmse: 0.232748, 25%\n",
      "beta: 2.06913808111479e-07, nmse: 0.273323, 30%\n",
      "beta: 3.792690190732254e-07, nmse: 0.473551, 35%\n",
      "beta: 6.951927961775605e-07, nmse: 0.575477, 40%\n",
      "beta: 1.2742749857031322e-06, nmse: 0.706216, 45%\n",
      "beta: 2.335721469090121e-06, nmse: 0.824961, 50%\n",
      "beta: 4.281332398719396e-06, nmse: 0.921361, 55%\n",
      "beta: 7.847599703514607e-06, nmse: 0.989516, 60%\n",
      "beta: 1.438449888287663e-05, nmse: 0.885039, 65%\n",
      "beta: 2.6366508987303556e-05, nmse: 0.525991, 70%\n",
      "beta: 4.8329302385717524e-05, nmse: 0.211626, 75%\n",
      "beta: 8.858667904100833e-05, nmse: 0.135608, 80%\n",
      "beta: 0.0001623776739188721, nmse: 0.133801, 85%\n",
      "beta: 0.00029763514416313193, nmse: 0.131515, 90%\n",
      "beta: 0.0005455594781168515, nmse: 0.129893, 95%\n",
      "beta: 0.001, nmse: 0.154899, 100%\n",
      "\u001b[32mbeta: 0.0005455594781168515\n",
      "nmse: 0.12989340335531308\n"
     ]
    }
   ],
   "source": [
    "opt_bt = opt_mg.opt_beta_test(mute=False)"
   ]
  },
  {
   "cell_type": "markdown",
   "id": "0828dea5-c57e-48c4-a2dc-c562d1f97f5e",
   "metadata": {},
   "source": [
    "#### Optimize W sparsity"
   ]
  },
  {
   "cell_type": "code",
   "execution_count": 9,
   "id": "efacb00e-fe7b-49f4-9131-0fc8eae7ec7d",
   "metadata": {},
   "outputs": [
    {
     "name": "stdout",
     "output_type": "stream",
     "text": [
      "sparsity: 0.2, nmse: 0.097763, 27%\n",
      "sparsity: 0.246, nmse: 0.289913, 32%\n",
      "sparsity: 0.292, nmse: 0.281384, 36%\n",
      "sparsity: 0.338, nmse: 0.265065, 41%\n",
      "sparsity: 0.383, nmse: 0.249317, 46%\n",
      "sparsity: 0.429, nmse: 0.156039, 50%\n",
      "sparsity: 0.475, nmse: 0.171069, 55%\n",
      "sparsity: 0.521, nmse: 0.176964, 59%\n",
      "sparsity: 0.567, nmse: 0.158949, 64%\n",
      "sparsity: 0.612, nmse: 0.010367, 68%\n",
      "sparsity: 0.658, nmse: 0.176183, 73%\n",
      "sparsity: 0.704, nmse: 0.080703, 78%\n",
      "sparsity: 0.75, nmse: 0.165815, 82%\n",
      "\u001b[32msparsity: 0.6125\n",
      "nmse: 0.010366541283429953\n"
     ]
    }
   ],
   "source": [
    "opt_Ws = opt_mg.opt_W_sparsity(start=0.2,end=0.75,count=13.6,mute=False)"
   ]
  },
  {
   "cell_type": "markdown",
   "id": "24c269cc-2b9d-45d0-ad6a-ad08a0866c94",
   "metadata": {},
   "source": [
    "## Plotting optimizations"
   ]
  },
  {
   "cell_type": "markdown",
   "id": "56f159c4-9c97-4be3-9ba7-15222395cbc6",
   "metadata": {},
   "source": [
    "#### Plotting rho"
   ]
  },
  {
   "cell_type": "code",
   "execution_count": 10,
   "id": "245d02c1-ee82-4f25-a35b-0e8e1fec1d46",
   "metadata": {},
   "outputs": [
    {
     "data": {
      "image/png": "[encoded data removed]",
      "text/plain": [
       "<Figure size 1000x500 with 1 Axes>"
      ]
     },
     "metadata": {
      "needs_background": "light"
     },
     "output_type": "display_data"
    },
    {
     "name": "stdout",
     "output_type": "stream",
     "text": [
      "\u001b[32m\n",
      "Optimal rho: 1.236842105263158, nmse: 0.020206619550986564\n"
     ]
    }
   ],
   "source": [
    "rn = opt_mg.collect_rhos(mute=True)\n",
    "opt_mg.plot_rhos(rn)\n",
    "\n",
    "opt_rho = optimize2.min_from_dict(rn)\n",
    "print(Fore.GREEN + \"\\nOptimal rho: {}, nmse: {}\".format(opt_rho,rn[opt_rho]))"
   ]
  },
  {
   "cell_type": "markdown",
   "id": "90516894-fee0-4640-8bb8-912194c1c92f",
   "metadata": {},
   "source": [
    "#### Plotting alpha"
   ]
  },
  {
   "cell_type": "code",
   "execution_count": 11,
   "id": "e826d715-0f89-4d17-893f-f825873ab2ca",
   "metadata": {},
   "outputs": [
    {
     "data": {
      "image/png": "[encoded data removed]",
      "text/plain": [
       "<Figure size 1000x500 with 1 Axes>"
      ]
     },
     "metadata": {
      "needs_background": "light"
     },
     "output_type": "display_data"
    },
    {
     "name": "stdout",
     "output_type": "stream",
     "text": [
      "\u001b[32m\n",
      "Optimal alpha: 0.33157894736842103, nmse: 0.004332639907862637\n"
     ]
    }
   ],
   "source": [
    "an = opt_mg.collect_alphas(mute=True)\n",
    "opt_mg.plot_alphas(an)\n",
    "\n",
    "opt_alpha = optimize2.min_from_dict(an)\n",
    "print(Fore.GREEN + \"\\nOptimal alpha: {}, nmse: {}\".format(opt_alpha,an[opt_alpha]))"
   ]
  },
  {
   "cell_type": "markdown",
   "id": "5aa51e65-aff0-4538-b576-9407521d0ca9",
   "metadata": {},
   "source": [
    "#### Plotting beta"
   ]
  },
  {
   "cell_type": "code",
   "execution_count": 12,
   "id": "8578416a-88f5-4444-bc58-3fa8ec5a0d8d",
   "metadata": {},
   "outputs": [
    {
     "name": "stdout",
     "output_type": "stream",
     "text": [
      "beta: 1e-08, nmse: 1.025742, 5%\n",
      "beta: 1.8329807108324374e-08, nmse: 0.321975, 10%\n",
      "beta: 3.3598182862837814e-08, nmse: 1.413377, 15%\n",
      "beta: 6.158482110660267e-08, nmse: 0.220373, 20%\n",
      "beta: 1.1288378916846883e-07, nmse: 0.232748, 25%\n",
      "beta: 2.06913808111479e-07, nmse: 0.273323, 30%\n",
      "beta: 3.792690190732254e-07, nmse: 0.473551, 35%\n",
      "beta: 6.951927961775605e-07, nmse: 0.575477, 40%\n",
      "beta: 1.2742749857031322e-06, nmse: 0.706216, 45%\n",
      "beta: 2.335721469090121e-06, nmse: 0.824961, 50%\n",
      "beta: 4.281332398719396e-06, nmse: 0.921361, 55%\n",
      "beta: 7.847599703514607e-06, nmse: 0.989516, 60%\n",
      "beta: 1.438449888287663e-05, nmse: 0.885039, 65%\n",
      "beta: 2.6366508987303556e-05, nmse: 0.525991, 70%\n",
      "beta: 4.8329302385717524e-05, nmse: 0.211626, 75%\n",
      "beta: 8.858667904100833e-05, nmse: 0.135608, 80%\n",
      "beta: 0.0001623776739188721, nmse: 0.133801, 85%\n",
      "beta: 0.00029763514416313193, nmse: 0.131515, 90%\n",
      "beta: 0.0005455594781168515, nmse: 0.129893, 95%\n",
      "beta: 0.001, nmse: 0.154899, 100%\n",
      "\u001b[32mbeta: 0.0005455594781168515\n",
      "nmse: 0.12989340335531308\n"
     ]
    },
    {
     "data": {
      "image/png": "[encoded data removed]",
      "text/plain": [
       "<Figure size 1000x500 with 1 Axes>"
      ]
     },
     "metadata": {
      "needs_background": "light"
     },
     "output_type": "display_data"
    },
    {
     "name": "stdout",
     "output_type": "stream",
     "text": [
      "\u001b[32m\n",
      "Optimal beta: 0.0005455594781168515, nmse: 0.12989340335531308\n"
     ]
    }
   ],
   "source": [
    "bn = opt_mg.collect_betas(mute=False)\n",
    "opt_mg.plot_betas(bn)\n",
    "\n",
    "opt_beta = optimize2.min_from_dict(bn)\n",
    "print(Fore.GREEN + \"\\nOptimal beta: {}, nmse: {}\".format(opt_beta,bn[opt_beta]))"
   ]
  },
  {
   "cell_type": "markdown",
   "id": "7f75507b-bdf0-4b95-8d83-d3405fde85df",
   "metadata": {},
   "source": [
    "#### Plotting W sparsity"
   ]
  },
  {
   "cell_type": "markdown",
   "id": "90aabb2c-de15-46e9-8ec8-c5e20dcdfb5e",
   "metadata": {},
   "source": [
    "Changes in W sparsity have a minimal effect on performance once sufficiently distant from the extremes, 0 and 1. Even 0.05-0.95 qualifies at sufficiently distant.\n",
    "\n",
    "Additionally, changing sparsity unavoidably affects the random nature of the W matrix, so if other parameters have been optimized for a W matrix of particular sparsity, there's no guarantee these parameters will be optimal for any other sparsity or W matrix by extension.\n",
    "\n",
    "In other words, sparsity optimization is available but low priority. Could be useful if other parameters are fixed and unoptimizable."
   ]
  },
  {
   "cell_type": "code",
   "execution_count": 13,
   "id": "7ecfedac-4c2e-4121-9eb5-0be62f8983fc",
   "metadata": {},
   "outputs": [
    {
     "ename": "TypeError",
     "evalue": "collect_W_sparsities() got an unexpected keyword argument 'start'",
     "output_type": "error",
     "traceback": [
      "\u001b[1;31m---------------------------------------------------------------------------\u001b[0m",
      "\u001b[1;31mTypeError\u001b[0m                                 Traceback (most recent call last)",
      "\u001b[1;32m~\\AppData\\Local\\Temp/ipykernel_11604/2493391622.py\u001b[0m in \u001b[0;36m<module>\u001b[1;34m\u001b[0m\n\u001b[1;32m----> 1\u001b[1;33m \u001b[0msn\u001b[0m \u001b[1;33m=\u001b[0m \u001b[0mopt_mg\u001b[0m\u001b[1;33m.\u001b[0m\u001b[0mcollect_W_sparsities\u001b[0m\u001b[1;33m(\u001b[0m\u001b[0mstart\u001b[0m\u001b[1;33m=\u001b[0m\u001b[1;36m0.1\u001b[0m\u001b[1;33m,\u001b[0m\u001b[0mend\u001b[0m\u001b[1;33m=\u001b[0m\u001b[1;36m0.9\u001b[0m\u001b[1;33m,\u001b[0m\u001b[0mcount\u001b[0m\u001b[1;33m=\u001b[0m\u001b[1;36m20\u001b[0m\u001b[1;33m,\u001b[0m\u001b[0mmute\u001b[0m\u001b[1;33m=\u001b[0m\u001b[1;32mTrue\u001b[0m\u001b[1;33m)\u001b[0m\u001b[1;33m\u001b[0m\u001b[1;33m\u001b[0m\u001b[0m\n\u001b[0m\u001b[0;32m      2\u001b[0m \u001b[0mopt_mg\u001b[0m\u001b[1;33m.\u001b[0m\u001b[0mplot_W_sparsities\u001b[0m\u001b[1;33m(\u001b[0m\u001b[0msn\u001b[0m\u001b[1;33m)\u001b[0m\u001b[1;33m\u001b[0m\u001b[1;33m\u001b[0m\u001b[0m\n\u001b[0;32m      3\u001b[0m \u001b[1;33m\u001b[0m\u001b[0m\n\u001b[0;32m      4\u001b[0m \u001b[0moptimize2\u001b[0m\u001b[1;33m.\u001b[0m\u001b[0mprint_optimal\u001b[0m\u001b[1;33m(\u001b[0m\u001b[0msn\u001b[0m\u001b[1;33m,\u001b[0m\u001b[1;34m\"W sparsity\"\u001b[0m\u001b[1;33m)\u001b[0m\u001b[1;33m\u001b[0m\u001b[1;33m\u001b[0m\u001b[0m\n",
      "\u001b[1;31mTypeError\u001b[0m: collect_W_sparsities() got an unexpected keyword argument 'start'"
     ]
    }
   ],
   "source": [
    "sn = opt_mg.collect_W_sparsities(start=0.1,end=0.9,count=20,mute=True)\n",
    "opt_mg.plot_W_sparsities(sn)\n",
    "\n",
    "optimize2.print_optimal(sn,\"W sparsity\")"
   ]
  },
  {
   "cell_type": "markdown",
   "id": "dca9b744-31df-4a1d-bc38-d4062380a08e",
   "metadata": {},
   "source": [
    "## Equality checking"
   ]
  },
  {
   "cell_type": "code",
   "execution_count": null,
   "id": "4ad346ad-5528-41f7-b6f2-3f0c0a2b4c9f",
   "metadata": {},
   "outputs": [],
   "source": [
    "# make a copy of the esn to check\n",
    "e1 = copy.deepcopy(opt_mg.esn)"
   ]
  },
  {
   "cell_type": "code",
   "execution_count": null,
   "id": "57436da7-f9e9-4440-8809-29869733744e",
   "metadata": {
    "tags": []
   },
   "outputs": [],
   "source": [
    "# run opt_mg for some optimization and then come back here to check if/how any variables changed (they shouldn't have)\n",
    "loukas_esn.compare_vars(e1,opt_mg.esn)"
   ]
  },
  {
   "cell_type": "code",
   "execution_count": null,
   "id": "f0e12b1f-34ca-42a2-aa34-d829492dc28b",
   "metadata": {},
   "outputs": [],
   "source": [
    "# see what happens when they do change:\n",
    "e1 = copy.deepcopy(opt_mg.esn)\n",
    "e1.set_rho(0.96)\n",
    "e1.set_beta(5)\n",
    "e1.set_alpha(6.4e-3)\n",
    "e1.W = np.random.uniform(low=-1.5, high=1.5, size=(N_mg,N_mg))\n",
    "loukas_esn.compare_vars(e1,opt_mg.esn)"
   ]
  },
  {
   "cell_type": "markdown",
   "id": "b981f6fd-91ed-49be-81bc-fcae1d11ed69",
   "metadata": {},
   "source": [
    "## Example optimization script"
   ]
  },
  {
   "cell_type": "code",
   "execution_count": null,
   "id": "44b15979-29c9-4591-a895-88e50ae489fe",
   "metadata": {},
   "outputs": [],
   "source": [
    "# initialise input data\n",
    "data_mg = util.data_mg()\n",
    "\n",
    "# initialise parameter spaces\n",
    "rhos_mg = np.linspace(0.7,1.3,20)\n",
    "alphas_mg = np.linspace(0.3,0.9,20)\n",
    "betas_mg = np.logspace(-8,-3,20)\n",
    "\n",
    "# initialise parameter values\n",
    "rho_mg = 1.1\n",
    "alpha_mg = 0.7\n",
    "beta_mg = 1e-7\n",
    "sparse_mg = 0.5\n",
    "N_mg = 500\n",
    "\n",
    "inodes = 1      # input nodes\n",
    "onodes = 1      # output nodes\n",
    "ttr = 1000      # training time\n",
    "twash = 200     # washout time\n",
    "\n",
    "# initialise Esn & Optimizer2 object\n",
    "esn_0 = loukas_esn.Esn(data_mg, rho_mg, alpha_mg, beta_mg, inodes, onodes, ttr, twash, N_mg, sparse_mg)       # keep this unchanged\n",
    "esn_mg = copy.deepcopy(esn_0)                                                                                 # optimize this one\n",
    "opt_mg = optimize2.Optimizer2(esn_mg, rhos_mg, alphas_mg, betas_mg, test_time=1000)\n",
    "\n",
    "# optimize for rho/alpha\n",
    "r, a, n = opt_mg.opt_rho_alpha()\n",
    "\n",
    "# set new improved rho/alpha values\n",
    "opt_mg.esn.set_rho(r)\n",
    "opt_mg.esn.set_alpha(a)\n",
    "\n",
    "# optimize for beta with new rho/alpha values\n",
    "b, nb, bdict = opt_mg.opt_beta_test(mute=True)\n",
    "optimize2.print_optimal(bdict, \"beta\")\n",
    "\n",
    "# set new improved beta value\n",
    "opt_mg.esn.set_beta(b)"
   ]
  },
  {
   "cell_type": "code",
   "execution_count": null,
   "id": "a326b132-f8c0-4e3c-8501-c78424f3f70d",
   "metadata": {},
   "outputs": [],
   "source": [
    "# see the difference\n",
    "esn_0.train()\n",
    "esn_0.test(test_time=1000)\n",
    "esn_0.plot_test()\n",
    "print(Fore.CYAN + \"Original ESN: nmse test = {}\".format(esn_0.nmse_test))\n",
    "print(Fore.GREEN + \"rho = {}\\nalpha = {}\\nbeta = {}\".format(rho_mg,alpha_mg,beta_mg))"
   ]
  },
  {
   "cell_type": "code",
   "execution_count": null,
   "id": "f3fafdcd-8fdd-44b2-8213-7105adbc0fd4",
   "metadata": {},
   "outputs": [],
   "source": [
    "esn_mg.train()\n",
    "esn_mg.test(test_time=1000)\n",
    "esn_mg.plot_test()\n",
    "print(Fore.CYAN + \"Optimized ESN: nmse test = {}\".format(esn_mg.nmse_test))\n",
    "print(Fore.GREEN + \"rho = {}\\nalpha = {}\\nbeta = {}\".format(r,a,b))"
   ]
  },
  {
   "cell_type": "markdown",
   "id": "04f3e653-3db1-4d1c-9298-826ade0798dd",
   "metadata": {},
   "source": [
    "### Further optimization"
   ]
  },
  {
   "cell_type": "code",
   "execution_count": null,
   "id": "01100d2d-0e24-4e2a-b463-8b82c2be3423",
   "metadata": {},
   "outputs": [],
   "source": [
    "# reset esn activations to initial conditions\n",
    "esn_mg.reset_x()\n",
    "\n",
    "# optimize for W sparsity with new rho, alpha, beta\n",
    "s, ns, sdict = opt_mg.opt_W_sparsity(start=0.2,end=0.95,count=20)\n",
    "\n",
    "# set new improved W sparsity value\n",
    "opt_mg.esn.set_W_sparsity(s)"
   ]
  },
  {
   "cell_type": "code",
   "execution_count": null,
   "id": "b66e1b46-dd45-4e60-8bc9-6ab5ca3c79b6",
   "metadata": {},
   "outputs": [],
   "source": [
    "# see the difference\n",
    "esn_mg.train()\n",
    "esn_mg.test(test_time=1000)\n",
    "esn_mg.plot_test()\n",
    "print(Fore.CYAN + \"Optimized ESN: nmse test = {}\".format(esn_mg.nmse_test))\n",
    "print(Fore.GREEN + \"rho = {}\\nalpha = {}\\nbeta = {}\\nW-sparsity = {}\".format(r,a,b,s))"
   ]
  },
  {
   "cell_type": "code",
   "execution_count": null,
   "id": "05588a4c-9051-449f-ba09-85b86632caa8",
   "metadata": {},
   "outputs": [],
   "source": []
  }
 ],
 "metadata": {
  "kernelspec": {
   "display_name": "Python 3 (ipykernel)",
   "language": "python",
   "name": "python3"
  },
  "language_info": {
   "codemirror_mode": {
    "name": "ipython",
    "version": 3
   },
   "file_extension": ".py",
   "mimetype": "text/x-python",
   "name": "python",
   "nbconvert_exporter": "python",
   "pygments_lexer": "ipython3",
   "version": "3.9.7"
  }
 },
 "nbformat": 4,
 "nbformat_minor": 5
}
